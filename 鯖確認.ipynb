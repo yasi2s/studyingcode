{
  "nbformat": 4,
  "nbformat_minor": 0,
  "metadata": {
    "colab": {
      "name": "鯖確認.ipynb",
      "provenance": [],
      "authorship_tag": "ABX9TyO5G3mxmFSh3kDIpAm7eSfc",
      "include_colab_link": true
    },
    "kernelspec": {
      "name": "python3",
      "display_name": "Python 3"
    },
    "language_info": {
      "name": "python"
    }
  },
  "cells": [
    {
      "cell_type": "markdown",
      "metadata": {
        "id": "view-in-github",
        "colab_type": "text"
      },
      "source": [
        "<a href=\"https://colab.research.google.com/github/yasi2s/studyingcode/blob/main/%E9%AF%96%E7%A2%BA%E8%AA%8D.ipynb\" target=\"_parent\"><img src=\"https://colab.research.google.com/assets/colab-badge.svg\" alt=\"Open In Colab\"/></a>"
      ]
    },
    {
      "cell_type": "code",
      "metadata": {
        "id": "NpWDohZHHRYF"
      },
      "source": [
        "import json"
      ],
      "execution_count": 45,
      "outputs": []
    },
    {
      "cell_type": "code",
      "metadata": {
        "id": "E50Oy_zmHxcY"
      },
      "source": [
        "url = \"https://yasi2.com\""
      ],
      "execution_count": 46,
      "outputs": []
    },
    {
      "cell_type": "code",
      "metadata": {
        "id": "fEel5r65HkcU"
      },
      "source": [
        "r = requests.get(url)"
      ],
      "execution_count": 47,
      "outputs": []
    },
    {
      "cell_type": "code",
      "metadata": {
        "colab": {
          "base_uri": "https://localhost:8080/"
        },
        "id": "GWrIjOitH5vx",
        "outputId": "5457b854-91d6-41ad-910e-dd6f20039271"
      },
      "source": [
        "print (r.text)"
      ],
      "execution_count": 48,
      "outputs": [
        {
          "output_type": "stream",
          "text": [
            "<!DOCTYPE HTML>\n",
            "<!--\n",
            "\tAerial by HTML5 UP\n",
            "\thtml5up.net | @ajlkn\n",
            "\tFree for personal and commercial use under the CCA 3.0 license (html5up.net/license)\n",
            "-->\n",
            "<html>\n",
            "\t<head>\n",
            "\t\t<title>Aerial by HTML5 UP</title>\n",
            "\t\t<meta charset=\"utf-8\" />\n",
            "\t\t<meta name=\"viewport\" content=\"width=device-width, initial-scale=1, user-scalable=no\" />\n",
            "\t\t<link rel=\"stylesheet\" href=\"assets/css/main.css\" />\n",
            "\t\t<noscript><link rel=\"stylesheet\" href=\"assets/css/noscript.css\" /></noscript>\n",
            "\t</head>\n",
            "\t<body class=\"is-preload\">\n",
            "\t\t<div id=\"wrapper\">\n",
            "\t\t\t<div id=\"bg\"></div>\n",
            "\t\t\t<div id=\"overlay\"></div>\n",
            "\t\t\t<div id=\"main\">\n",
            "\n",
            "\t\t\t\t<!-- Header -->\n",
            "\t\t\t\t\t<header id=\"header\">\n",
            "\t\t\t\t\t\t<h1>ãããã</h1>\n",
            "\t\t\t\t\t\t<p>Security Chief &nbsp;&bull;&nbsp; Cyborg &nbsp;&bull;&nbsp; Never asked for this</p>\n",
            "\t\t\t\t\t\t<nav>\n",
            "\t\t\t\t\t\t\t<ul>\n",
            "\t\t\t\t\t\t\t\t<li><a href=\"#\" class=\"icon brands fa-twitter\"><span class=\"label\">Twitter</span></a></li>\n",
            "\t\t\t\t\t\t\t\t<li><a href=\"#\"i class=\"fas fa-microchip\"><span class=\"label\">Facebook</span></a></li>\n",
            "\t\t\t\t\t\t\t\t<li><a href=\"#\" class=\"far fa-edit\"><span class=\"label\">Dribbble</span></a></li>\n",
            "\t\t\t\t\t\t\t\t<li><a href=\"#\" class=\"icon brands fa-mastodon\"><span class=\"label\">Github</span></a></li>\n",
            "\t\t\t\t\t\t\t\t<li><a href=\"#\" class=\"icon solid fa-blog\"><span class=\"label\">Email</span></a></li>\n",
            "\t\t\t\t\t\t\t</ul>\n",
            "\t\t\t\t\t\t</nav>\n",
            "\t\t\t\t\t</header>\n",
            "\n",
            "\t\t\t\t<!-- Footer -->\n",
            "\t\t\t\t\t<footer id=\"footer\">\n",
            "\t\t\t\t\t\t<span class=\"copyright\">&copy; Untitled. Design: <a href=\"http://html5up.net\">HTML5 UP</a>.</span>\n",
            "\t\t\t\t\t</footer>\n",
            "\n",
            "\t\t\t</div>\n",
            "\t\t</div>\n",
            "\t\t<script>\n",
            "\t\t\twindow.onload = function() { document.body.classList.remove('is-preload'); }\n",
            "\t\t\twindow.ontouchmove = function() { return false; }\n",
            "\t\t\twindow.onorientationchange = function() { document.body.scrollTop = 0; }\n",
            "\t\t</script>\n",
            "\t</body>\n",
            "</html>\n"
          ],
          "name": "stdout"
        }
      ]
    }
  ]
}